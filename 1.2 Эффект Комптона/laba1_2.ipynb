{
 "cells": [
  {
   "cell_type": "code",
   "execution_count": 76,
   "metadata": {},
   "outputs": [],
   "source": [
    "import pandas as pd\n",
    "import numpy as np\n",
    "import matplotlib.pyplot as plt\n",
    "from numpy import sqrt, fabs"
   ]
  },
  {
   "cell_type": "code",
   "execution_count": 118,
   "metadata": {},
   "outputs": [],
   "source": [
    "df = pd.read_csv(\"laba1_2.csv\", sep=';')"
   ]
  },
  {
   "cell_type": "code",
   "execution_count": 119,
   "metadata": {},
   "outputs": [
    {
     "data": {
      "text/html": [
       "<div>\n",
       "<style scoped>\n",
       "    .dataframe tbody tr th:only-of-type {\n",
       "        vertical-align: middle;\n",
       "    }\n",
       "\n",
       "    .dataframe tbody tr th {\n",
       "        vertical-align: top;\n",
       "    }\n",
       "\n",
       "    .dataframe thead th {\n",
       "        text-align: right;\n",
       "    }\n",
       "</style>\n",
       "<table border=\"1\" class=\"dataframe\">\n",
       "  <thead>\n",
       "    <tr style=\"text-align: right;\">\n",
       "      <th></th>\n",
       "      <th>theta</th>\n",
       "      <th>number_channel</th>\n",
       "    </tr>\n",
       "  </thead>\n",
       "  <tbody>\n",
       "    <tr>\n",
       "      <th>0</th>\n",
       "      <td>0</td>\n",
       "      <td>864</td>\n",
       "    </tr>\n",
       "    <tr>\n",
       "      <th>1</th>\n",
       "      <td>10</td>\n",
       "      <td>832</td>\n",
       "    </tr>\n",
       "    <tr>\n",
       "      <th>2</th>\n",
       "      <td>20</td>\n",
       "      <td>793</td>\n",
       "    </tr>\n",
       "    <tr>\n",
       "      <th>3</th>\n",
       "      <td>30</td>\n",
       "      <td>725</td>\n",
       "    </tr>\n",
       "    <tr>\n",
       "      <th>4</th>\n",
       "      <td>40</td>\n",
       "      <td>662</td>\n",
       "    </tr>\n",
       "    <tr>\n",
       "      <th>5</th>\n",
       "      <td>50</td>\n",
       "      <td>594</td>\n",
       "    </tr>\n",
       "    <tr>\n",
       "      <th>6</th>\n",
       "      <td>60</td>\n",
       "      <td>520</td>\n",
       "    </tr>\n",
       "    <tr>\n",
       "      <th>7</th>\n",
       "      <td>70</td>\n",
       "      <td>463</td>\n",
       "    </tr>\n",
       "    <tr>\n",
       "      <th>8</th>\n",
       "      <td>80</td>\n",
       "      <td>416</td>\n",
       "    </tr>\n",
       "    <tr>\n",
       "      <th>9</th>\n",
       "      <td>90</td>\n",
       "      <td>372</td>\n",
       "    </tr>\n",
       "    <tr>\n",
       "      <th>10</th>\n",
       "      <td>100</td>\n",
       "      <td>349</td>\n",
       "    </tr>\n",
       "    <tr>\n",
       "      <th>11</th>\n",
       "      <td>110</td>\n",
       "      <td>310</td>\n",
       "    </tr>\n",
       "    <tr>\n",
       "      <th>12</th>\n",
       "      <td>120</td>\n",
       "      <td>282</td>\n",
       "    </tr>\n",
       "  </tbody>\n",
       "</table>\n",
       "</div>"
      ],
      "text/plain": [
       "    theta  number_channel\n",
       "0       0             864\n",
       "1      10             832\n",
       "2      20             793\n",
       "3      30             725\n",
       "4      40             662\n",
       "5      50             594\n",
       "6      60             520\n",
       "7      70             463\n",
       "8      80             416\n",
       "9      90             372\n",
       "10    100             349\n",
       "11    110             310\n",
       "12    120             282"
      ]
     },
     "execution_count": 119,
     "metadata": {},
     "output_type": "execute_result"
    }
   ],
   "source": [
    "df"
   ]
  },
  {
   "cell_type": "code",
   "execution_count": 120,
   "metadata": {},
   "outputs": [],
   "source": [
    "theta = np.array(df['theta'])\n",
    "number_channel = np.array(df['number_channel'])"
   ]
  },
  {
   "cell_type": "code",
   "execution_count": 121,
   "metadata": {},
   "outputs": [],
   "source": [
    "theta = 0.0174533 * theta"
   ]
  },
  {
   "cell_type": "code",
   "execution_count": 122,
   "metadata": {},
   "outputs": [
    {
     "data": {
      "text/plain": [
       "(13,)"
      ]
     },
     "execution_count": 122,
     "metadata": {},
     "output_type": "execute_result"
    }
   ],
   "source": [
    "number_channel.shape"
   ]
  },
  {
   "cell_type": "code",
   "execution_count": 123,
   "metadata": {},
   "outputs": [],
   "source": [
    "ox = 1 - np.cos(theta)"
   ]
  },
  {
   "cell_type": "code",
   "execution_count": 124,
   "metadata": {},
   "outputs": [],
   "source": [
    "oy = 1 / number_channel"
   ]
  },
  {
   "cell_type": "code",
   "execution_count": 125,
   "metadata": {
    "scrolled": true
   },
   "outputs": [
    {
     "data": {
      "text/plain": [
       "array([0.        , 0.01519226, 0.06030743, 0.13397471, 0.23395575,\n",
       "       0.35721268, 0.50000039, 0.65798035, 0.82635241, 1.00000067,\n",
       "       1.17364891, 1.34202092, 1.50000078])"
      ]
     },
     "execution_count": 125,
     "metadata": {},
     "output_type": "execute_result"
    }
   ],
   "source": [
    "ox "
   ]
  },
  {
   "cell_type": "code",
   "execution_count": 126,
   "metadata": {},
   "outputs": [
    {
     "data": {
      "text/plain": [
       "array([0.00115741, 0.00120192, 0.00126103, 0.00137931, 0.00151057,\n",
       "       0.0016835 , 0.00192308, 0.00215983, 0.00240385, 0.00268817,\n",
       "       0.00286533, 0.00322581, 0.0035461 ])"
      ]
     },
     "execution_count": 126,
     "metadata": {},
     "output_type": "execute_result"
    }
   ],
   "source": [
    "oy"
   ]
  },
  {
   "cell_type": "code",
   "execution_count": 157,
   "metadata": {},
   "outputs": [
    {
     "data": {
      "image/png": "[encoded data removed]",
      "text/plain": [
       "<matplotlib.figure.Figure at 0x124f03eb8>"
      ]
     },
     "metadata": {},
     "output_type": "display_data"
    }
   ],
   "source": [
    "fig = plt.figure(figsize=(18, 14)); \n",
    "ax = fig.gca()\n",
    "ax.set_xticks(np.arange(-0.2, 1.6, 0.01), minor=True) # это для мелких делений по оси ОХ\n",
    "ax.set_yticks(np.arange(0.001, 0.004, 0.000025), minor=True) # аналогично для OY\n",
    "ax.grid(which='minor', alpha=0.4, linestyle='-')\n",
    "\n",
    "plt.title(' ', fontsize=18); \n",
    "# plt.grid(ls='-')\n",
    "\n",
    "# plt.plot(ox, oy, lw=2, label='Длина волны', color='black')\n",
    "mnk_coef = np.polyfit(ox, oy, 1) # считаем коэфф-ты аппроксимирующей прямой\n",
    "xp = np.linspace(-0.1, 1.6, 100)\n",
    "p = np.poly1d(mnk_coef) # создаем полином с коэффициентами (убывающими по степени) из массива mnk_coef_f1\n",
    "_ = plt.plot(xp, p(xp), color='orange') # рисуем точки и аппроксимирующую прямую\n",
    "\n",
    "plt.xlabel('1 - cos($\\Theta$)', fontsize=15); \n",
    "plt.ylabel('1/N($\\Theta$)', fontsize=15)\n",
    "plt.scatter(ox, oy, color='red')\n",
    "\n",
    "# plt.errorbar(ox, oy, xerr=sigma_k, yerr=sigma_c, fmt='o', color='grey')\n",
    "plt.show()"
   ]
  },
  {
   "cell_type": "code",
   "execution_count": 134,
   "metadata": {},
   "outputs": [],
   "source": [
    "# Ниже реализованы функции, которые считают погрешности для коэффициентов k и с, \n",
    "# найденных с помощью метода наименьших квадратов (y = kx + c)\n",
    "# rmse означает root mean square error\n",
    "def get_rmse_k(x, y, k, n):\n",
    "    return  sqrt(fabs(((np.mean(y ** 2) - ((np.mean(y)) ** 2)) /\n",
    "                 ((np.mean(x ** 2) - \n",
    "                   ((np.mean(x)) ** 2)))) - (k ** 2))) / sqrt(n)\n",
    "\n",
    "def get_rmse_c(x, y, sigma_k, n):\n",
    "    return sigma_k * sqrt(np.mean(x ** 2) - ((np.mean(x)) ** 2))"
   ]
  },
  {
   "cell_type": "code",
   "execution_count": 135,
   "metadata": {},
   "outputs": [
    {
     "data": {
      "text/plain": [
       "0.00010912671483484796"
      ]
     },
     "execution_count": 135,
     "metadata": {},
     "output_type": "execute_result"
    }
   ],
   "source": [
    "mnk_coef[0]"
   ]
  },
  {
   "cell_type": "code",
   "execution_count": 136,
   "metadata": {},
   "outputs": [],
   "source": [
    "sigma_k = get_rmse_k(ox, oy, mnk_coef[0], 13)\n",
    "sigma_c = get_rmse_c(ox, oy, sigma_k, 13)"
   ]
  },
  {
   "cell_type": "code",
   "execution_count": 140,
   "metadata": {},
   "outputs": [
    {
     "data": {
      "text/plain": [
       "(0.00042555284974888356, 0.00021497949499402268)"
      ]
     },
     "execution_count": 140,
     "metadata": {},
     "output_type": "execute_result"
    }
   ],
   "source": [
    "sigma_k, sigma_c"
   ]
  },
  {
   "cell_type": "code",
   "execution_count": null,
   "metadata": {},
   "outputs": [],
   "source": []
  }
 ],
 "metadata": {
  "kernelspec": {
   "display_name": "Python 3",
   "language": "python",
   "name": "python3"
  },
  "language_info": {
   "codemirror_mode": {
    "name": "ipython",
    "version": 3
   },
   "file_extension": ".py",
   "mimetype": "text/x-python",
   "name": "python",
   "nbconvert_exporter": "python",
   "pygments_lexer": "ipython3",
   "version": "3.6.4"
  }
 },
 "nbformat": 4,
 "nbformat_minor": 2
}
