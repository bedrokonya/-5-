{
 "cells": [
  {
   "cell_type": "code",
   "execution_count": 1,
   "metadata": {},
   "outputs": [],
   "source": [
    "import pandas as pd\n",
    "import numpy as np\n",
    "import matplotlib.pyplot as plt\n",
    "from numpy import sqrt, fabs"
   ]
  },
  {
   "cell_type": "code",
   "execution_count": 2,
   "metadata": {},
   "outputs": [],
   "source": [
    "df = pd.read_csv(\"laba1_2.csv\", sep=';')"
   ]
  },
  {
   "cell_type": "code",
   "execution_count": 3,
   "metadata": {},
   "outputs": [
    {
     "data": {
      "text/html": [
       "<div>\n",
       "<style scoped>\n",
       "    .dataframe tbody tr th:only-of-type {\n",
       "        vertical-align: middle;\n",
       "    }\n",
       "\n",
       "    .dataframe tbody tr th {\n",
       "        vertical-align: top;\n",
       "    }\n",
       "\n",
       "    .dataframe thead th {\n",
       "        text-align: right;\n",
       "    }\n",
       "</style>\n",
       "<table border=\"1\" class=\"dataframe\">\n",
       "  <thead>\n",
       "    <tr style=\"text-align: right;\">\n",
       "      <th></th>\n",
       "      <th>theta</th>\n",
       "      <th>number_channel</th>\n",
       "    </tr>\n",
       "  </thead>\n",
       "  <tbody>\n",
       "    <tr>\n",
       "      <th>0</th>\n",
       "      <td>0</td>\n",
       "      <td>864</td>\n",
       "    </tr>\n",
       "    <tr>\n",
       "      <th>1</th>\n",
       "      <td>10</td>\n",
       "      <td>832</td>\n",
       "    </tr>\n",
       "    <tr>\n",
       "      <th>2</th>\n",
       "      <td>20</td>\n",
       "      <td>793</td>\n",
       "    </tr>\n",
       "    <tr>\n",
       "      <th>3</th>\n",
       "      <td>30</td>\n",
       "      <td>725</td>\n",
       "    </tr>\n",
       "    <tr>\n",
       "      <th>4</th>\n",
       "      <td>40</td>\n",
       "      <td>662</td>\n",
       "    </tr>\n",
       "    <tr>\n",
       "      <th>5</th>\n",
       "      <td>50</td>\n",
       "      <td>594</td>\n",
       "    </tr>\n",
       "    <tr>\n",
       "      <th>6</th>\n",
       "      <td>60</td>\n",
       "      <td>520</td>\n",
       "    </tr>\n",
       "    <tr>\n",
       "      <th>7</th>\n",
       "      <td>70</td>\n",
       "      <td>463</td>\n",
       "    </tr>\n",
       "    <tr>\n",
       "      <th>8</th>\n",
       "      <td>80</td>\n",
       "      <td>416</td>\n",
       "    </tr>\n",
       "    <tr>\n",
       "      <th>9</th>\n",
       "      <td>90</td>\n",
       "      <td>372</td>\n",
       "    </tr>\n",
       "    <tr>\n",
       "      <th>10</th>\n",
       "      <td>100</td>\n",
       "      <td>349</td>\n",
       "    </tr>\n",
       "    <tr>\n",
       "      <th>11</th>\n",
       "      <td>110</td>\n",
       "      <td>310</td>\n",
       "    </tr>\n",
       "    <tr>\n",
       "      <th>12</th>\n",
       "      <td>120</td>\n",
       "      <td>282</td>\n",
       "    </tr>\n",
       "  </tbody>\n",
       "</table>\n",
       "</div>"
      ],
      "text/plain": [
       "    theta  number_channel\n",
       "0       0             864\n",
       "1      10             832\n",
       "2      20             793\n",
       "3      30             725\n",
       "4      40             662\n",
       "5      50             594\n",
       "6      60             520\n",
       "7      70             463\n",
       "8      80             416\n",
       "9      90             372\n",
       "10    100             349\n",
       "11    110             310\n",
       "12    120             282"
      ]
     },
     "execution_count": 3,
     "metadata": {},
     "output_type": "execute_result"
    }
   ],
   "source": [
    "df"
   ]
  },
  {
   "cell_type": "code",
   "execution_count": 4,
   "metadata": {},
   "outputs": [],
   "source": [
    "theta = np.array(df['theta'])\n",
    "number_channel = np.array(df['number_channel'])"
   ]
  },
  {
   "cell_type": "code",
   "execution_count": 5,
   "metadata": {},
   "outputs": [],
   "source": [
    "# переводим в радианы\n",
    "theta = np.pi / 180 * theta"
   ]
  },
  {
   "cell_type": "code",
   "execution_count": 6,
   "metadata": {},
   "outputs": [
    {
     "data": {
      "text/plain": [
       "array([0.        , 0.17453293, 0.34906585, 0.52359878, 0.6981317 ,\n",
       "       0.87266463, 1.04719755, 1.22173048, 1.3962634 , 1.57079633,\n",
       "       1.74532925, 1.91986218, 2.0943951 ])"
      ]
     },
     "execution_count": 6,
     "metadata": {},
     "output_type": "execute_result"
    }
   ],
   "source": [
    "theta"
   ]
  },
  {
   "cell_type": "code",
   "execution_count": 7,
   "metadata": {},
   "outputs": [],
   "source": [
    "ox = 1 - np.cos(theta)"
   ]
  },
  {
   "cell_type": "code",
   "execution_count": 8,
   "metadata": {},
   "outputs": [],
   "source": [
    "oy = 1 / number_channel"
   ]
  },
  {
   "cell_type": "code",
   "execution_count": 9,
   "metadata": {
    "scrolled": true
   },
   "outputs": [
    {
     "data": {
      "text/plain": [
       "array([0.        , 0.01519225, 0.06030738, 0.1339746 , 0.23395556,\n",
       "       0.35721239, 0.5       , 0.65797986, 0.82635182, 1.        ,\n",
       "       1.17364818, 1.34202014, 1.5       ])"
      ]
     },
     "execution_count": 9,
     "metadata": {},
     "output_type": "execute_result"
    }
   ],
   "source": [
    "ox "
   ]
  },
  {
   "cell_type": "code",
   "execution_count": 10,
   "metadata": {},
   "outputs": [
    {
     "data": {
      "text/plain": [
       "array([0.00115741, 0.00120192, 0.00126103, 0.00137931, 0.00151057,\n",
       "       0.0016835 , 0.00192308, 0.00215983, 0.00240385, 0.00268817,\n",
       "       0.00286533, 0.00322581, 0.0035461 ])"
      ]
     },
     "execution_count": 10,
     "metadata": {},
     "output_type": "execute_result"
    }
   ],
   "source": [
    "oy"
   ]
  },
  {
   "cell_type": "code",
   "execution_count": 11,
   "metadata": {},
   "outputs": [],
   "source": [
    "# погрешности для 1/N(\\Theta) и (1 - cos(\\theta))\n",
    "sigma_N = 10\n",
    "sigma_theta = 0.0174533\n",
    "errorbar_y = [sigma_N/i**2 for i in number_channel] \n",
    "errorbar_x = [np.sin(i) * sigma_theta for i in theta]\n"
   ]
  },
  {
   "cell_type": "code",
   "execution_count": 12,
   "metadata": {},
   "outputs": [
    {
     "data": {
      "text/plain": [
       "[0.0,\n",
       " 0.0030307337392742354,\n",
       " 0.005969380167505894,\n",
       " 0.008726649999999999,\n",
       " 0.011218764988142076,\n",
       " 0.01337000347908846,\n",
       " 0.015115001179870944,\n",
       " 0.016400737218362695,\n",
       " 0.017188145155647972,\n",
       " 0.0174533,\n",
       " 0.017188145155647972,\n",
       " 0.016400737218362698,\n",
       " 0.015115001179870947]"
      ]
     },
     "execution_count": 12,
     "metadata": {},
     "output_type": "execute_result"
    }
   ],
   "source": [
    "errorbar_x"
   ]
  },
  {
   "cell_type": "code",
   "execution_count": 13,
   "metadata": {},
   "outputs": [
    {
     "data": {
      "image/png": "[encoded data removed]",
      "text/plain": [
       "<matplotlib.figure.Figure at 0x10f443978>"
      ]
     },
     "metadata": {},
     "output_type": "display_data"
    }
   ],
   "source": [
    "fig = plt.figure(figsize=(18, 14)); \n",
    "ax = fig.gca()\n",
    "ax.set_xticks(np.arange(-0.2, 1.6, 0.01), minor=True) # это для мелких делений по оси ОХ\n",
    "ax.set_yticks(np.arange(0.001, 0.004, 0.000025), minor=True) # аналогично для OY\n",
    "ax.grid(which='minor', alpha=0.4, linestyle='-')\n",
    "\n",
    "plt.title(' ', fontsize=18); \n",
    "# plt.grid(ls='-')\n",
    "\n",
    "# plt.plot(ox, oy, lw=2, label='Длина волны', color='black')\n",
    "mnk_coef = np.polyfit(ox, oy, 1) # считаем коэфф-ты аппроксимирующей прямой\n",
    "xp = np.linspace(-0.1, 1.6, 100)\n",
    "p = np.poly1d(mnk_coef) # создаем полином с коэффициентами (убывающими по степени) из массива mnk_coef_f1\n",
    "# test1 = np.poly1d([mnk_coef[0] + sigma_k, mnk_coef[1] + sigma_c]) \n",
    "# test2 = np.poly1d([mnk_coef[0] - sigma_k, mnk_coef[1] - sigma_c]) \n",
    "\n",
    "\n",
    "_ = plt.plot(xp, p(xp), color='orange', ) # рисуем точки и аппроксимирующую прямую\n",
    "\n",
    "\n",
    "plt.xlabel('1 - cos($\\Theta$)', fontsize=15); \n",
    "plt.ylabel('1/N($\\Theta$)', fontsize=15)\n",
    "plt.scatter(ox, oy, color='red')\n",
    "\n",
    "plt.errorbar(ox, oy, yerr=errorbar_y, xerr=errorbar_x,fmt='o', color='grey')\n",
    "plt.show()"
   ]
  },
  {
   "cell_type": "code",
   "execution_count": 14,
   "metadata": {},
   "outputs": [],
   "source": [
    "# Ниже реализованы функции, которые считают погрешности для коэффициентов k и с, \n",
    "# найденных с помощью метода наименьших квадратов (y = kx + c)\n",
    "# rmse означает root mean square error\n",
    "def get_rmse_k(x, y, k, n):\n",
    "    return  sqrt(fabs(((np.mean(y ** 2) - ((np.mean(y)) ** 2)) /\n",
    "                 ((np.mean(x ** 2) - \n",
    "                   ((np.mean(x)) ** 2)))) - (k ** 2))) / sqrt(n)\n",
    "\n",
    "def get_rmse_c(x, y, sigma_k, n):\n",
    "    return sigma_k * sqrt(np.mean(x ** 2) - ((np.mean(x)) ** 2))"
   ]
  },
  {
   "cell_type": "code",
   "execution_count": 273,
   "metadata": {},
   "outputs": [
    {
     "data": {
      "text/plain": [
       "array([0.00153645, 0.00115543])"
      ]
     },
     "execution_count": 273,
     "metadata": {},
     "output_type": "execute_result"
    }
   ],
   "source": [
    "mnk_coef"
   ]
  },
  {
   "cell_type": "code",
   "execution_count": 274,
   "metadata": {},
   "outputs": [],
   "source": [
    "sigma_k = get_rmse_k(ox, oy, mnk_coef[0], 13)\n",
    "sigma_c = get_rmse_c(ox, oy, sigma_k, 13)"
   ]
  },
  {
   "cell_type": "code",
   "execution_count": 275,
   "metadata": {},
   "outputs": [
    {
     "data": {
      "text/plain": [
       "(2.052604251648306e-05, 1.0369277946083052e-05)"
      ]
     },
     "execution_count": 275,
     "metadata": {},
     "output_type": "execute_result"
    }
   ],
   "source": [
    "sigma_k, sigma_c"
   ]
  },
  {
   "cell_type": "code",
   "execution_count": 276,
   "metadata": {},
   "outputs": [
    {
     "name": "stdout",
     "output_type": "stream",
     "text": [
      " \n",
      "0.001536 x + 0.001155\n"
     ]
    }
   ],
   "source": [
    "print(np.poly1d(p))"
   ]
  },
  {
   "cell_type": "code",
   "execution_count": 19,
   "metadata": {},
   "outputs": [],
   "source": [
    "E_gamma = 662 * 10**3 # эВ, значение из лабника"
   ]
  },
  {
   "cell_type": "code",
   "execution_count": 22,
   "metadata": {},
   "outputs": [
    {
     "data": {
      "text/plain": [
       "(0.001155432920689506, 7.226268932824603e-05)"
      ]
     },
     "execution_count": 22,
     "metadata": {},
     "output_type": "execute_result"
    }
   ],
   "source": [
    "# cos(\\theta) = 1, т.е. \\theta = 0\n",
    "theta_0 = p(0)\n",
    "sigma_theta_0 = errorbar_y[9]\n",
    "theta_0, sigma_theta_0\n"
   ]
  },
  {
   "cell_type": "code",
   "execution_count": 23,
   "metadata": {},
   "outputs": [
    {
     "data": {
      "text/plain": [
       "(0.002691880810258882, 1.3395919067215363e-05)"
      ]
     },
     "execution_count": 23,
     "metadata": {},
     "output_type": "execute_result"
    }
   ],
   "source": [
    "# cos(\\theta) = 0, т.е. \\theta = pi/2\n",
    "theta_90 = p(1)\n",
    "sigma_theta_90 = errorbar_y[0]\n",
    "theta_90, sigma_theta_90"
   ]
  },
  {
   "cell_type": "code",
   "execution_count": 24,
   "metadata": {},
   "outputs": [
    {
     "data": {
      "text/plain": [
       "865.4764652224455"
      ]
     },
     "execution_count": 24,
     "metadata": {},
     "output_type": "execute_result"
    }
   ],
   "source": [
    "N_0 = 1 / theta_0\n",
    "N_0"
   ]
  },
  {
   "cell_type": "code",
   "execution_count": null,
   "metadata": {},
   "outputs": [],
   "source": []
  },
  {
   "cell_type": "code",
   "execution_count": 25,
   "metadata": {},
   "outputs": [
    {
     "data": {
      "text/plain": [
       "371.4874730667695"
      ]
     },
     "execution_count": 25,
     "metadata": {},
     "output_type": "execute_result"
    }
   ],
   "source": [
    "N_90 = 1 / theta_90\n",
    "N_90"
   ]
  },
  {
   "cell_type": "code",
   "execution_count": 209,
   "metadata": {},
   "outputs": [],
   "source": [
    "ans = E_gamma * N_90 / (N_0 - N_90)"
   ]
  },
  {
   "cell_type": "code",
   "execution_count": 210,
   "metadata": {},
   "outputs": [
    {
     "data": {
      "text/plain": [
       "497834.3871531059"
      ]
     },
     "execution_count": 210,
     "metadata": {},
     "output_type": "execute_result"
    }
   ],
   "source": [
    "# значение в лабе, которое мы ищем (энергию покоя электрона), настоящее значение равно примерно 511 кэВ,\n",
    "# так что мы близки к истине\n",
    "ans # эВ"
   ]
  },
  {
   "cell_type": "code",
   "execution_count": 211,
   "metadata": {},
   "outputs": [
    {
     "data": {
      "text/plain": [
       "54.12833216657554"
      ]
     },
     "execution_count": 211,
     "metadata": {},
     "output_type": "execute_result"
    }
   ],
   "source": [
    "# это не нужно, лишние подсчеты\n",
    "# sigma_N_0 = 1/theta_0**2 * sigma_theta_0\n",
    "# sigma_N_0"
   ]
  },
  {
   "cell_type": "code",
   "execution_count": 212,
   "metadata": {},
   "outputs": [
    {
     "data": {
      "text/plain": [
       "1.8486762507171344"
      ]
     },
     "execution_count": 212,
     "metadata": {},
     "output_type": "execute_result"
    }
   ],
   "source": [
    "# # это тоже не нужно\n",
    "# sigma_N_90 = 1/theta_90**2 * sigma_theta_90\n",
    "# sigma_N_90"
   ]
  },
  {
   "cell_type": "code",
   "execution_count": null,
   "metadata": {},
   "outputs": [],
   "source": [
    "# правильные погрешности\n",
    "sigma_N_0 = 10\n",
    "sigma_N_90 = 10"
   ]
  },
  {
   "cell_type": "code",
   "execution_count": 26,
   "metadata": {},
   "outputs": [],
   "source": [
    "sigma_ans =  np.sqrt((sigma_N_0**2 * ( E_gamma * N_0 / (N_0 - N_90)**2) **2  + sigma_N_90**2 * (E_gamma / (N_0 - N_90))**2))"
   ]
  },
  {
   "cell_type": "code",
   "execution_count": 27,
   "metadata": {},
   "outputs": [
    {
     "data": {
      "text/plain": [
       "27034.25410575179"
      ]
     },
     "execution_count": 27,
     "metadata": {},
     "output_type": "execute_result"
    }
   ],
   "source": [
    "sigma_ans"
   ]
  },
  {
   "cell_type": "markdown",
   "metadata": {},
   "source": [
    "# ROUND THEM ALL!!!\n",
    "тупо округление, чтобы красиво забить значения в табличку, потому что больше ведь заняться нечем \n",
    ")))"
   ]
  },
  {
   "cell_type": "code",
   "execution_count": 277,
   "metadata": {},
   "outputs": [
    {
     "data": {
      "text/plain": [
       "array([0.    , 0.1745, 0.3491, 0.5236, 0.6981, 0.8727, 1.0472, 1.2217,\n",
       "       1.3963, 1.5708, 1.7453, 1.9199, 2.0944])"
      ]
     },
     "execution_count": 277,
     "metadata": {},
     "output_type": "execute_result"
    }
   ],
   "source": [
    "theta = np.around(theta, decimals=4)\n",
    "theta"
   ]
  },
  {
   "cell_type": "code",
   "execution_count": 278,
   "metadata": {},
   "outputs": [
    {
     "data": {
      "text/plain": [
       "array([0.    , 0.0152, 0.0603, 0.134 , 0.234 , 0.3572, 0.5   , 0.658 ,\n",
       "       0.8264, 1.    , 1.1736, 1.342 , 1.5   ])"
      ]
     },
     "execution_count": 278,
     "metadata": {},
     "output_type": "execute_result"
    }
   ],
   "source": [
    "ox = np.around(ox, decimals=4)\n",
    "ox"
   ]
  },
  {
   "cell_type": "code",
   "execution_count": 279,
   "metadata": {},
   "outputs": [
    {
     "data": {
      "text/plain": [
       "array([0.    , 0.003 , 0.006 , 0.0087, 0.0112, 0.0134, 0.0151, 0.0164,\n",
       "       0.0172, 0.0175, 0.0172, 0.0164, 0.0151])"
      ]
     },
     "execution_count": 279,
     "metadata": {},
     "output_type": "execute_result"
    }
   ],
   "source": [
    "errorbar_x = np.around(errorbar_x, decimals=4)\n",
    "errorbar_x"
   ]
  },
  {
   "cell_type": "code",
   "execution_count": 280,
   "metadata": {},
   "outputs": [
    {
     "data": {
      "text/plain": [
       "array([0.00116, 0.0012 , 0.00126, 0.00138, 0.00151, 0.00168, 0.00192,\n",
       "       0.00216, 0.0024 , 0.00269, 0.00287, 0.00323, 0.00355])"
      ]
     },
     "execution_count": 280,
     "metadata": {},
     "output_type": "execute_result"
    }
   ],
   "source": [
    "oy = np.around(oy, decimals=5)\n",
    "oy"
   ]
  },
  {
   "cell_type": "code",
   "execution_count": 281,
   "metadata": {},
   "outputs": [
    {
     "data": {
      "text/plain": [
       "array([1.0e-05, 1.0e-05, 2.0e-05, 2.0e-05, 2.0e-05, 3.0e-05, 4.0e-05,\n",
       "       5.0e-05, 6.0e-05, 7.0e-05, 8.0e-05, 1.0e-04, 1.3e-04])"
      ]
     },
     "execution_count": 281,
     "metadata": {},
     "output_type": "execute_result"
    }
   ],
   "source": [
    "errorbar_y = np.around(errorbar_y, decimals=5)\n",
    "errorbar_y"
   ]
  },
  {
   "cell_type": "code",
   "execution_count": 288,
   "metadata": {},
   "outputs": [],
   "source": [
    "df['theta_radians'] = theta\n",
    "df['sigma_theta'] = 1\n",
    "df['sigma_N'] = 10\n",
    "df['1-cos(theta)'] = ox\n",
    "df['sigma_1-cos(theta)'] = errorbar_x\n",
    "df['1/N'] = oy\n",
    "df['sigma_1/N'] = errorbar_y"
   ]
  },
  {
   "cell_type": "code",
   "execution_count": 289,
   "metadata": {},
   "outputs": [],
   "source": [
    "df.to_csv('data.csv', sep = ',', index = True)"
   ]
  },
  {
   "cell_type": "markdown",
   "metadata": {},
   "source": [
    "| $\\theta$, (degrees) \t| N   \t| $\\theta$, (radians) \t| $\\sigma_{\\theta}$ \t| $\\sigma_N$ \t| 1-$cos(\\theta)$ \t| $\\sigma_{(1-cos(\\theta))}$ \t| 1/N     \t| $\\sigma_{1/N}$ \t|\n",
    "|---------------------\t|-----\t|---------------------\t|-------------------\t|------------\t|------------------\t|----------------------------\t|---------\t|----------------\t|\n",
    "| 0                   \t| 864 \t| 0.0000              \t| 1                 \t| 10         \t| 0.0000         \t| 0.0000                     \t| 0.00116 \t| 1e-05          \t|\n",
    "| 10                  \t| 832 \t| 0.1745              \t| 1                 \t| 10         \t| 0.0152         \t| 0.0030                     \t| 0.00120 \t| 1e-05          \t|\n",
    "| 20                  \t| 793 \t| 0.3491              \t| 1                 \t| 10         \t| 0.0603         \t| 0.0060                     \t| 0.00126 \t| 2e-05          \t|\n",
    "| 30                  \t| 725 \t| 0.5236              \t| 1                 \t| 10         \t| 0.1340         \t| 0.0087                     \t| 0.00138 \t| 2e-05          \t|\n",
    "| 40                  \t| 662 \t| 0.6981              \t| 1                 \t| 10         \t| 0.2340         \t| 0.0112                     \t| 0.00151 \t| 2e-05          \t|\n",
    "| 50                  \t| 594 \t| 0.8727              \t| 1                 \t| 10         \t| 0.3572         \t| 0.0134                     \t| 0.00168 \t| 3e-05          \t|\n",
    "| 60                  \t| 520 \t| 1.0472              \t| 1                 \t| 10         \t| 0.5000         \t| 0.0151                     \t| 0.00192 \t| 4e-05          \t|\n",
    "| 70                  \t| 463 \t| 1.2217              \t| 1                 \t| 10         \t| 0.6580         \t| 0.0164                     \t| 0.00216 \t| 5e-05          \t|\n",
    "| 80                  \t| 416 \t| 1.3963              \t| 1                 \t| 10         \t| 0.8264         \t| 0.0172                     \t| 0.00240 \t| 6e-05          \t|\n",
    "| 90                  \t| 372 \t| 1.5708              \t| 1                 \t| 10         \t| 1.0000         \t| 0.0175                     \t| 0.00269 \t| 7e-05          \t|\n",
    "| 100                 \t| 349 \t| 1.7453              \t| 1                 \t| 10         \t| 1.1736         \t| 0.0172                     \t| 0.00287 \t| 8e-05          \t|\n",
    "| 110                 \t| 310 \t| 1.9199              \t| 1                 \t| 10         \t| 1.3420         \t| 0.0164                     \t| 0.00323 \t| 0.0001         \t|\n",
    "| 120                 \t| 282 \t| 2.0944              \t| 1                 \t| 10         \t| 1.5000         \t| 0.0151                     \t| 0.00355 \t| 0.00013        \t|"
   ]
  },
  {
   "cell_type": "code",
   "execution_count": null,
   "metadata": {},
   "outputs": [],
   "source": []
  }
 ],
 "metadata": {
  "kernelspec": {
   "display_name": "Python 3",
   "language": "python",
   "name": "python3"
  },
  "language_info": {
   "codemirror_mode": {
    "name": "ipython",
    "version": 3
   },
   "file_extension": ".py",
   "mimetype": "text/x-python",
   "name": "python",
   "nbconvert_exporter": "python",
   "pygments_lexer": "ipython3",
   "version": "3.6.4"
  }
 },
 "nbformat": 4,
 "nbformat_minor": 2
}
