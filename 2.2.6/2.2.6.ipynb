{
 "cells": [
  {
   "cell_type": "code",
   "execution_count": 63,
   "metadata": {
    "collapsed": true
   },
   "outputs": [],
   "source": [
    "import matplotlib.pyplot as plt\n",
    "import numpy as np\n",
    "from math import sqrt\n",
    "from math import fabs\n",
    "from math import log\n",
    "%matplotlib inline"
   ]
  },
  {
   "cell_type": "code",
   "execution_count": 100,
   "metadata": {
    "collapsed": true
   },
   "outputs": [],
   "source": [
    "# Ниже реализованы функции, которые считают погрешности для коэффициентов k и с, \n",
    "# найденных с помощью метода наименьших квадратов (y = kx + c)\n",
    "# rmse означает root mean square error\n",
    "def get_rmse_k(x, y, k, n):\n",
    "    return  sqrt(fabs(((np.mean(y ** 2) - ((np.mean(y)) ** 2)) /\n",
    "                 ((np.mean(x ** 2) - \n",
    "                   ((np.mean(x)) ** 2)))) - (k ** 2))) / sqrt(n)\n",
    "\n",
    "def get_rmse_c(x, y, sigma_k, n):\n",
    "    return sigma_k * sqrt(np.mean(x ** 2) - ((np.mean(x)) ** 2))"
   ]
  },
  {
   "cell_type": "code",
   "execution_count": 2,
   "metadata": {
    "collapsed": false
   },
   "outputs": [
    {
     "data": {
      "text/plain": [
       "array([ 296.35,  308.35,  318.25,  328.15])"
      ]
     },
     "execution_count": 2,
     "metadata": {},
     "output_type": "execute_result"
    }
   ],
   "source": [
    "temperature_celsius = np.array([23.2, 35.2, 45.1, 55.0]) # в градусах цельсия\n",
    "temperature_kelvin = temperature_celsius + 273.15 # в кельвинах\n",
    "temperature_kelvin"
   ]
  },
  {
   "cell_type": "code",
   "execution_count": 8,
   "metadata": {
    "collapsed": true
   },
   "outputs": [],
   "source": [
    "diam_glass = np.array([2.105, 2.100, 2.06, 2.00, 2.08, 2.06, 2.06, 2.06, 2.02])\n",
    "diam_steel = np.array([0.72, 0.92, 0.66, 0.78, 0.80, 0.84, 0.68, 0.80, 0.86])"
   ]
  },
  {
   "cell_type": "code",
   "execution_count": 14,
   "metadata": {
    "collapsed": false
   },
   "outputs": [
    {
     "data": {
      "text/plain": [
       "2.0605555555555557"
      ]
     },
     "execution_count": 14,
     "metadata": {},
     "output_type": "execute_result"
    }
   ],
   "source": [
    "diam_glass_mean = np.mean(diam_glass)\n",
    "diam_glass_mean # средний диаметр шарика для стекла"
   ]
  },
  {
   "cell_type": "code",
   "execution_count": 15,
   "metadata": {
    "collapsed": false
   },
   "outputs": [
    {
     "data": {
      "text/plain": [
       "0.7844444444444445"
      ]
     },
     "execution_count": 15,
     "metadata": {},
     "output_type": "execute_result"
    }
   ],
   "source": [
    "diam_steel_mean = np.mean(diam_steel)\n",
    "diam_steel_mean # средник диаметр шарика для стали"
   ]
  },
  {
   "cell_type": "code",
   "execution_count": 16,
   "metadata": {
    "collapsed": true
   },
   "outputs": [],
   "source": [
    "time_T1 = np.array([18.44, 14.59, 13.02, 13.09])\n",
    "time_T2 = np.array([9.8, 11.01, 9.19, 7.69, 7.44])\n",
    "time_T3 = np.array([8.41, 5.27, 4.84, 4.5, 4.71])\n",
    "time_T4 = np.array([4.03, 3.22, 2.72, 2.61])"
   ]
  },
  {
   "cell_type": "markdown",
   "metadata": {},
   "source": [
    "$\\eta = \\frac{2}{9} gr^{2} \\frac{\\rho - \\rho_{ж}}{v_{уст}}$, поэтому:"
   ]
  },
  {
   "cell_type": "code",
   "execution_count": 39,
   "metadata": {
    "collapsed": true
   },
   "outputs": [],
   "source": [
    "# в милиметрах\n",
    "all_diams = np.array([0.72, 0.80, 2.10, 2.06, 0.92, 0.78, 0.84, 2.10, 2.06,\n",
    "                      0.66, 0.80, 2.00, 2.06, 2.06, 0.68, 0.86, 2.08, 2.02])"
   ]
  },
  {
   "cell_type": "code",
   "execution_count": 41,
   "metadata": {
    "collapsed": false
   },
   "outputs": [
    {
     "data": {
      "text/plain": [
       "array([ 0.36,  0.4 ,  1.05,  1.03,  0.46,  0.39,  0.42,  1.05,  1.03,\n",
       "        0.33,  0.4 ,  1.  ,  1.03,  1.03,  0.34,  0.43,  1.04,  1.01])"
      ]
     },
     "execution_count": 41,
     "metadata": {},
     "output_type": "execute_result"
    }
   ],
   "source": [
    "# в милиметрах\n",
    "all_radii = all_diams / 2 \n",
    "all_radii"
   ]
  },
  {
   "cell_type": "code",
   "execution_count": 42,
   "metadata": {
    "collapsed": false
   },
   "outputs": [
    {
     "data": {
      "text/plain": [
       "array([ 0.1296,  0.16  ,  1.1025,  1.0609,  0.2116,  0.1521,  0.1764,\n",
       "        1.1025,  1.0609,  0.1089,  0.16  ,  1.    ,  1.0609,  1.0609,\n",
       "        0.1156,  0.1849,  1.0816,  1.0201])"
      ]
     },
     "execution_count": 42,
     "metadata": {},
     "output_type": "execute_result"
    }
   ],
   "source": [
    "all_radii_pow_2 = all_radii ** 2\n",
    "all_radii_pow_2"
   ]
  },
  {
   "cell_type": "code",
   "execution_count": 43,
   "metadata": {
    "collapsed": true
   },
   "outputs": [],
   "source": [
    "# г/см^3\n",
    "rho_sharick = np.array([ 7.8, 7.8, 2.6, 2.6, 7.8, 7.8, 7.8, 2.6, 2.6,\n",
    "                        7.8, 7.8, 2.6, 2.6, 2.6, 7.8, 7.8, 2.6, 2.6]) "
   ]
  },
  {
   "cell_type": "code",
   "execution_count": 44,
   "metadata": {
    "collapsed": true
   },
   "outputs": [],
   "source": [
    "# г/см^3\n",
    "rho_zhidkost = np.array([1.260, 1.260, 1.260, 1.260, 1.255, 1.255, 1.255, 1.255, 1.255,\n",
    "                         1.250, 1.250, 1.250, 1.250, 1.250, 1.246, 1.246, 1.246, 1.246])"
   ]
  },
  {
   "cell_type": "code",
   "execution_count": 45,
   "metadata": {
    "collapsed": true
   },
   "outputs": [],
   "source": [
    "# в секундах\n",
    "time = np.array([18.44, 14.59, 13.02, 13.09, 9.8, 11.01, 9.19, 7.69, 7.44,\n",
    "                 8.41, 5.27, 4.84, 4.5, 4.71, 4.03, 3.22, 2.72, 2.61])"
   ]
  },
  {
   "cell_type": "code",
   "execution_count": 51,
   "metadata": {
    "collapsed": false
   },
   "outputs": [
    {
     "data": {
      "text/plain": [
       "array([ 0.00542299,  0.00685401,  0.00768049,  0.00763942,  0.01020408,\n",
       "        0.00908265,  0.01088139,  0.0130039 ,  0.01344086,  0.01189061,\n",
       "        0.01897533,  0.02066116,  0.02222222,  0.02123142,  0.0248139 ,\n",
       "        0.0310559 ,  0.03676471,  0.03831418])"
      ]
     },
     "execution_count": 51,
     "metadata": {},
     "output_type": "execute_result"
    }
   ],
   "source": [
    "v_ust = 0.1 / time\n",
    "v_ust"
   ]
  },
  {
   "cell_type": "code",
   "execution_count": 52,
   "metadata": {
    "collapsed": false
   },
   "outputs": [
    {
     "data": {
      "text/plain": [
       "array([ 315.3675479 ,  308.05364907,  388.1215128 ,  375.48468592,\n",
       "        273.85755388,  221.15640347,  214.09034293,  230.0914903 ,\n",
       "        214.21160935,  121.04267428,  111.44105956,  131.8416    ,\n",
       "        130.045122  ,  136.11389436,   61.60878613,   78.73585622,\n",
       "         80.37622069,   72.74032783])"
      ]
     },
     "execution_count": 52,
     "metadata": {},
     "output_type": "execute_result"
    }
   ],
   "source": [
    "eta = 2/9 * 9.08 * all_radii_pow_2 * (rho_sharick - rho_zhidkost) / v_ust\n",
    "eta"
   ]
  },
  {
   "cell_type": "code",
   "execution_count": 55,
   "metadata": {
    "collapsed": false
   },
   "outputs": [
    {
     "data": {
      "text/plain": [
       "array([ 0.00780001,  0.0112137 ,  0.02618069,  0.02640438,  0.02151051,\n",
       "        0.02010118,  0.02679048,  0.07447425,  0.08110825,  0.04052187,\n",
       "        0.08513618,  0.19588996,  0.22000911,  0.20082782,  0.17062759,\n",
       "        0.2113285 ,  0.59272725,  0.66286281])"
      ]
     },
     "execution_count": 55,
     "metadata": {},
     "output_type": "execute_result"
    }
   ],
   "source": [
    "Re = v_ust * all_radii * 10**(-3) * rho_zhidkost * 10**(3) / (eta * 10**(-3))\n",
    "Re"
   ]
  },
  {
   "cell_type": "code",
   "execution_count": 57,
   "metadata": {
    "collapsed": false
   },
   "outputs": [
    {
     "data": {
      "text/plain": [
       "array([ 0.00646779,  0.00817451,  0.01490245,  0.01482275,  0.01216071,\n",
       "        0.01082425,  0.01296789,  0.02513765,  0.02598233,  0.01415981,\n",
       "        0.02259658,  0.03979186,  0.04279835,  0.04089015,  0.02953134,\n",
       "        0.03696003,  0.07059692,  0.07357227])"
      ]
     },
     "execution_count": 57,
     "metadata": {},
     "output_type": "execute_result"
    }
   ],
   "source": [
    "tau = 2/9 * 9.08 * all_radii_pow_2 * 10**(-6) * rho_sharick * 10**(3) / (eta * 10**(-3))\n",
    "tau"
   ]
  },
  {
   "cell_type": "code",
   "execution_count": 62,
   "metadata": {
    "collapsed": false
   },
   "outputs": [
    {
     "data": {
      "text/plain": [
       "array([  1.28951416e-05,   2.05985840e-05,   4.20801886e-05,\n",
       "         4.16313364e-05,   4.56209050e-05,   3.61444325e-05,\n",
       "         5.18782150e-05,   1.20179247e-04,   1.28391505e-04,\n",
       "         6.19002506e-05,   1.57638817e-04,   3.02259495e-04,\n",
       "         3.49659754e-04,   3.19174996e-04,   2.69407182e-04,\n",
       "         4.21995207e-04,   9.54218806e-04,   1.03634597e-03])"
      ]
     },
     "execution_count": 62,
     "metadata": {},
     "output_type": "execute_result"
    }
   ],
   "source": [
    "S = v_ust * tau * 1/2.72\n",
    "S"
   ]
  },
  {
   "cell_type": "code",
   "execution_count": 76,
   "metadata": {
    "collapsed": false
   },
   "outputs": [
    {
     "data": {
      "text/plain": [
       "346.75684892250001"
      ]
     },
     "execution_count": 76,
     "metadata": {},
     "output_type": "execute_result"
    }
   ],
   "source": [
    "eta_mean_T1 = np.mean(np.array([ 315.3675479 ,  308.05364907,  388.1215128 ,  375.48468592]))\n",
    "eta_mean_T1"
   ]
  },
  {
   "cell_type": "code",
   "execution_count": 77,
   "metadata": {
    "collapsed": false
   },
   "outputs": [
    {
     "data": {
      "text/plain": [
       "230.68147998599997"
      ]
     },
     "execution_count": 77,
     "metadata": {},
     "output_type": "execute_result"
    }
   ],
   "source": [
    "eta_mean_T2 = np.mean(np.array([273.85755388,  221.15640347,  214.09034293,  230.0914903 ,214.21160935]))\n",
    "eta_mean_T2"
   ]
  },
  {
   "cell_type": "code",
   "execution_count": 79,
   "metadata": {
    "collapsed": false
   },
   "outputs": [
    {
     "data": {
      "text/plain": [
       "126.09687004"
      ]
     },
     "execution_count": 79,
     "metadata": {},
     "output_type": "execute_result"
    }
   ],
   "source": [
    "eta_mean_T3 = np.mean(np.array([121.04267428,  111.44105956,  131.8416    ,\n",
    "        130.045122  ,  136.11389436]))\n",
    "eta_mean_T3"
   ]
  },
  {
   "cell_type": "code",
   "execution_count": 80,
   "metadata": {
    "collapsed": false
   },
   "outputs": [
    {
     "data": {
      "text/plain": [
       "73.365297717499999"
      ]
     },
     "execution_count": 80,
     "metadata": {},
     "output_type": "execute_result"
    }
   ],
   "source": [
    "eta_mean_T4 = np.mean(np.array([61.60878613,   78.73585622,\n",
    "         80.37622069,   72.74032783]))\n",
    "eta_mean_T4"
   ]
  },
  {
   "cell_type": "code",
   "execution_count": 82,
   "metadata": {
    "collapsed": true
   },
   "outputs": [],
   "source": [
    "eta_mean = np.array([346.756, 230.681, 126.097, 73.365])"
   ]
  },
  {
   "cell_type": "code",
   "execution_count": 83,
   "metadata": {
    "collapsed": false
   },
   "outputs": [
    {
     "data": {
      "text/plain": [
       "array([-1.05913392, -1.46671948, -2.07070383, -2.6123083 ])"
      ]
     },
     "execution_count": 83,
     "metadata": {},
     "output_type": "execute_result"
    }
   ],
   "source": [
    "ln_eta = np.log(eta_mean * 10**(-3))\n",
    "ln_eta"
   ]
  },
  {
   "cell_type": "code",
   "execution_count": 107,
   "metadata": {
    "collapsed": false
   },
   "outputs": [
    {
     "data": {
      "text/plain": [
       "array([ 3.37438839,  3.24306794,  3.14218382,  3.04738687])"
      ]
     },
     "execution_count": 107,
     "metadata": {},
     "output_type": "execute_result"
    }
   ],
   "source": [
    "inverted_T = 1 / temperature_kelvin * 10**3\n",
    "inverted_T"
   ]
  },
  {
   "cell_type": "code",
   "execution_count": 108,
   "metadata": {
    "collapsed": false
   },
   "outputs": [
    {
     "data": {
      "image/png": "[encoded data removed]",
      "text/plain": [
       "<matplotlib.figure.Figure at 0x10bd830b8>"
      ]
     },
     "metadata": {},
     "output_type": "display_data"
    }
   ],
   "source": [
    "fig = plt.figure(figsize=(14, 9))\n",
    "ax = fig.gca()\n",
    "ax.set_xticks(np.arange(3, 3.40, 0.005), minor=True) # это для мелких делений по оси ОХ\n",
    "ax.set_yticks(np.arange(-2.75, -1.00, 0.025), minor=True) # аналогично для OY\n",
    "ax.grid(which='minor', alpha=0.4, linestyle='-')\n",
    "\n",
    "mnk_coef = np.polyfit(inverted_T, ln_eta, 1) # считаем коэфф-ты аппроксимирующей прямой\n",
    "xp = np.linspace(3, 3.4, 100)\n",
    "p = np.poly1d(mnk_coef) # создаем полином с коэффициентами (убывающими по степени) из массива mnk_coef_f1\n",
    "_ = plt.plot(inverted_T, ln_eta, '.', xp, p(xp), '-') # рисуем точки и аппроксимирующую прямую\n",
    "plt.xlabel('$1/T$', horizontalalignment='right', x = 1, size = 15)\n",
    "h = plt.ylabel('$ln\\eta, Па*c $', verticalalignment='top', \n",
    "               horizontalalignment='right', y = 1, size = 15)\n",
    "h.set_rotation(0)\n",
    "plt.title('$ln\\eta(1/T)$', size = 17)\n",
    "plt.grid()\n",
    "plt.scatter(inverted_T, ln_eta, color = 'red')\n",
    "\n",
    "plt.show()"
   ]
  },
  {
   "cell_type": "code",
   "execution_count": 106,
   "metadata": {
    "collapsed": false
   },
   "outputs": [
    {
     "data": {
      "text/plain": [
       "array([ 4808.9780363 ,   -17.19939429])"
      ]
     },
     "execution_count": 106,
     "metadata": {},
     "output_type": "execute_result"
    }
   ],
   "source": [
    "mnk_coef"
   ]
  },
  {
   "cell_type": "code",
   "execution_count": 102,
   "metadata": {
    "collapsed": false
   },
   "outputs": [],
   "source": [
    "sigma_k = get_rmse_k(inverted_T, ln_eta, mnk_coef[0], 4)\n",
    "sigma_c = get_rmse_c(inverted_T, ln_eta, sigma_k, 4) "
   ]
  },
  {
   "cell_type": "code",
   "execution_count": 103,
   "metadata": {
    "collapsed": false
   },
   "outputs": [
    {
     "data": {
      "text/plain": [
       "(0.36406633418943335, 0.04417345043185587)"
      ]
     },
     "execution_count": 103,
     "metadata": {},
     "output_type": "execute_result"
    }
   ],
   "source": [
    "sigma_k, sigma_c"
   ]
  }
 ],
 "metadata": {
  "kernelspec": {
   "display_name": "Python 3",
   "language": "python",
   "name": "python3"
  },
  "language_info": {
   "codemirror_mode": {
    "name": "ipython",
    "version": 3
   },
   "file_extension": ".py",
   "mimetype": "text/x-python",
   "name": "python",
   "nbconvert_exporter": "python",
   "pygments_lexer": "ipython3",
   "version": "3.6.0"
  }
 },
 "nbformat": 4,
 "nbformat_minor": 2
}
